{
 "cells": [
  {
   "cell_type": "code",
   "execution_count": 1,
   "id": "adaae7dc-89bb-4a94-a950-f993c5d62abe",
   "metadata": {},
   "outputs": [],
   "source": [
    "import numpy as np"
   ]
  },
  {
   "cell_type": "code",
   "execution_count": 2,
   "id": "30b335d0-abfe-413f-a5bf-1cb62edbca22",
   "metadata": {},
   "outputs": [
    {
     "name": "stdout",
     "output_type": "stream",
     "text": [
      "Hello Kunjan\n"
     ]
    }
   ],
   "source": [
    "print(\"Hello Kunjan\")"
   ]
  },
  {
   "cell_type": "code",
   "execution_count": 3,
   "id": "ca5ea4e2-24d8-457c-bf40-a59dae4d93a7",
   "metadata": {},
   "outputs": [
    {
     "name": "stdout",
     "output_type": "stream",
     "text": [
      "Hello, World!\n"
     ]
    }
   ],
   "source": [
    "print('Hello, World!')"
   ]
  },
  {
   "cell_type": "code",
   "execution_count": 4,
   "id": "b1353711",
   "metadata": {},
   "outputs": [
    {
     "name": "stdout",
     "output_type": "stream",
     "text": [
      "[1 2 4 5 5]\n",
      "<class 'numpy.ndarray'>\n"
     ]
    }
   ],
   "source": [
    "arr = np.array([1,2,4,5,5])\n",
    "\n",
    "print(arr)\n",
    "\n",
    "print(type(arr))"
   ]
  },
  {
   "cell_type": "code",
   "execution_count": 5,
   "id": "db08542a",
   "metadata": {},
   "outputs": [
    {
     "name": "stdout",
     "output_type": "stream",
     "text": [
      "42\n"
     ]
    }
   ],
   "source": [
    "# 0-D Array\n",
    "\n",
    "arr = np.array(42)\n",
    "\n",
    "print(arr)"
   ]
  },
  {
   "cell_type": "code",
   "execution_count": 6,
   "id": "dbfc8cec",
   "metadata": {},
   "outputs": [
    {
     "name": "stdout",
     "output_type": "stream",
     "text": [
      "[1 2 3 4 5]\n"
     ]
    }
   ],
   "source": [
    "# 1-D Array\n",
    "\n",
    "arr = np.array([1, 2, 3, 4, 5])\n",
    "\n",
    "print(arr)"
   ]
  },
  {
   "cell_type": "code",
   "execution_count": 7,
   "id": "255658f3",
   "metadata": {},
   "outputs": [
    {
     "name": "stdout",
     "output_type": "stream",
     "text": [
      "[[1 2 3 4 5]\n",
      " [1 2 3 4 5]]\n",
      "<class 'numpy.ndarray'>\n",
      "2\n"
     ]
    }
   ],
   "source": [
    "arr = np.array([[1, 2, 3, 4, 5],[1,2,3,4,5]])\n",
    "\n",
    "print(arr)\n",
    "\n",
    "print(type(arr))\n",
    "\n",
    "print(arr.ndim)  # To find the dimension of the array"
   ]
  },
  {
   "cell_type": "markdown",
   "id": "ec8ba024",
   "metadata": {},
   "source": [
    "Reshape Array "
   ]
  },
  {
   "cell_type": "code",
   "execution_count": 8,
   "id": "28a74ecb",
   "metadata": {},
   "outputs": [
    {
     "name": "stdout",
     "output_type": "stream",
     "text": [
      "[[ 1  2  3]\n",
      " [ 4  5  6]\n",
      " [ 7  8  9]\n",
      " [10 11 12]]\n"
     ]
    }
   ],
   "source": [
    "# Reshap From 1-D to 2-D\n",
    "\n",
    "arr = np.array([1,2,3,4,5,6,7,8,9,10,11,12])\n",
    "\n",
    "newarr = arr.reshape(4,3)\n",
    "\n",
    "print(newarr)"
   ]
  },
  {
   "cell_type": "code",
   "execution_count": 9,
   "id": "a964e53d",
   "metadata": {},
   "outputs": [
    {
     "name": "stdout",
     "output_type": "stream",
     "text": [
      "[[[ 1  2]\n",
      "  [ 3  4]\n",
      "  [ 5  6]]\n",
      "\n",
      " [[ 7  8]\n",
      "  [ 9 10]\n",
      "  [11 12]]]\n"
     ]
    }
   ],
   "source": [
    "# Reshape From 1-D to 3-D\n",
    "\n",
    "arr = np.array([1,2,3,4,5,6,7,8,9,10,11,12])\n",
    "\n",
    "newarr = arr.reshape(2,3,2)\n",
    "\n",
    "print(newarr)"
   ]
  },
  {
   "cell_type": "code",
   "execution_count": 10,
   "id": "1ff69b28",
   "metadata": {},
   "outputs": [
    {
     "name": "stdout",
     "output_type": "stream",
     "text": [
      "[[1 2 3]\n",
      " [4 5 6]\n",
      " [7 8 9]]\n"
     ]
    }
   ],
   "source": [
    "arr = np.array([1, 2, 3, 4, 5, 6, 7, 8, 9])\n",
    "\n",
    "newarr = arr.reshape(3, 3)\n",
    "\n",
    "print(newarr)\n",
    "\n",
    "\n",
    "# OK Ok I Will Understand"
   ]
  },
  {
   "cell_type": "code",
   "execution_count": 11,
   "id": "f7eb7d91",
   "metadata": {},
   "outputs": [
    {
     "name": "stdout",
     "output_type": "stream",
     "text": [
      "[1 2 3 4 5 6 7 8]\n"
     ]
    }
   ],
   "source": [
    "# Return Copy Or View\n",
    "arr = np.array([1,2,3,4,5,6,7,8])\n",
    "\n",
    "print(arr.reshape(2,4).base)"
   ]
  },
  {
   "cell_type": "code",
   "execution_count": 12,
   "id": "a27c54de",
   "metadata": {},
   "outputs": [
    {
     "name": "stdout",
     "output_type": "stream",
     "text": [
      "[[1 2 3 4]\n",
      " [5 6 7 8]]\n"
     ]
    }
   ],
   "source": [
    "arr = np.array([1,2,3,4,5,6,7,8])\n",
    "\n",
    "print(arr.reshape(2,4))"
   ]
  },
  {
   "cell_type": "code",
   "execution_count": 13,
   "id": "90ac1344",
   "metadata": {},
   "outputs": [
    {
     "name": "stdout",
     "output_type": "stream",
     "text": [
      "[[[1 2]\n",
      "  [3 4]]\n",
      "\n",
      " [[5 6]\n",
      "  [7 8]]]\n"
     ]
    }
   ],
   "source": [
    "# Unknown Dimension \n",
    "\n",
    "arr = np.array([1,2,3,4,5,6,7,8])\n",
    "\n",
    "newarr = arr.reshape(2,2,-1)\n",
    "\n",
    "print(newarr)"
   ]
  },
  {
   "cell_type": "code",
   "execution_count": 14,
   "id": "86c16e1b",
   "metadata": {},
   "outputs": [
    {
     "name": "stdout",
     "output_type": "stream",
     "text": [
      "Original Array: [1 2 3 4 5 6]\n",
      "View Array:\n",
      " [[1 2 3]\n",
      " [4 5 6]]\n",
      "\n",
      " After changing view:\n",
      "Original Array: [1 2 3 4 5 6]\n",
      "View Array:\n",
      " [[1 2 3]\n",
      " [4 5 6]]\n",
      "\n",
      "Original Array: [1 2 3 4 5 6]\n",
      "Copy Array:\n",
      " [[1 2 3]\n",
      " [4 5 6]]\n",
      "\n",
      " After changing copy:\n",
      "Original Array: [1 2 3 4 5 6]\n",
      "Copy Array:\n",
      " [[ 1 77  3]\n",
      " [ 4  5  6]]\n"
     ]
    }
   ],
   "source": [
    "arr = np.array([1, 2, 3, 4, 5, 6])\n",
    "\n",
    "# ------------------VIEW Example------------------\n",
    "\n",
    "view_arr = arr.reshape(2,3)\n",
    "\n",
    "print(\"Original Array:\", arr)\n",
    "print(\"View Array:\\n\", view_arr)\n",
    "\n",
    "# show the value in view\n",
    "\n",
    "print(\"\\n After changing view:\")\n",
    "print(\"Original Array:\", arr)\n",
    "print(\"View Array:\\n\", view_arr)\n",
    "\n",
    "#------------------Copy Example--------------------\n",
    "copy_arr = arr.reshape(2,3).copy()\n",
    "\n",
    "print(\"\\nOriginal Array:\", arr)\n",
    "print(\"Copy Array:\\n\", copy_arr)\n",
    "\n",
    "# Change the copy Value\n",
    "\n",
    "copy_arr[0,1] = 77\n",
    "\n",
    "print(\"\\n After changing copy:\")\n",
    "print(\"Original Array:\", arr)\n",
    "print(\"Copy Array:\\n\", copy_arr)"
   ]
  },
  {
   "cell_type": "code",
   "execution_count": 15,
   "id": "3eb8b61c",
   "metadata": {},
   "outputs": [
    {
     "name": "stdout",
     "output_type": "stream",
     "text": [
      "[1 2 3 4 5 6]\n"
     ]
    }
   ],
   "source": [
    "# Flattening the arrays\n",
    "\n",
    "arr = np.array([[[1,2,3],[4,5,6]]])\n",
    "newarr = arr.reshape(-1)\n",
    "print(newarr)"
   ]
  },
  {
   "cell_type": "code",
   "execution_count": 16,
   "id": "8d65c917-937c-4d66-9f25-1d5af2c5d769",
   "metadata": {},
   "outputs": [
    {
     "name": "stdout",
     "output_type": "stream",
     "text": [
      "[[[ 1  2]\n",
      "  [ 3  4]\n",
      "  [ 5  6]]\n",
      "\n",
      " [[ 7  8]\n",
      "  [ 9 10]\n",
      "  [11 12]]]\n"
     ]
    }
   ],
   "source": [
    "arr = np.array([1, 2, 3, 4, 5, 6, 7, 8, 9, 10, 11, 12])\n",
    "\n",
    "newarr = arr.reshape(2, 3, 2)\n",
    "\n",
    "print(newarr)"
   ]
  },
  {
   "cell_type": "code",
   "execution_count": 17,
   "id": "2da374be-133b-4140-af1c-e7bdc4907aa6",
   "metadata": {},
   "outputs": [
    {
     "name": "stdout",
     "output_type": "stream",
     "text": [
      "[1 2 3 4]\n"
     ]
    }
   ],
   "source": [
    "arr = np.array([[1,2],[3,4]])  # Flatten (Multi-dimensional array to convert in 1D Copy Array)\n",
    "new_arr = arr.flatten()\n",
    "print(new_arr)"
   ]
  },
  {
   "cell_type": "code",
   "execution_count": 18,
   "id": "226bf87c-98b7-4c70-a161-e6e6a4faabbe",
   "metadata": {},
   "outputs": [
    {
     "name": "stdout",
     "output_type": "stream",
     "text": [
      "[1 2 3 4]\n"
     ]
    }
   ],
   "source": [
    "arr = np.array([[1,2],[3,4]]) # Ravel (That is given mostly View)\n",
    "new_arr = arr.ravel()\n",
    "print(new_arr)"
   ]
  },
  {
   "cell_type": "code",
   "execution_count": 19,
   "id": "6fbfc949-6547-452e-bbdb-5a7e22fb1e81",
   "metadata": {},
   "outputs": [
    {
     "name": "stdout",
     "output_type": "stream",
     "text": [
      "[[2 4]\n",
      " [1 3]]\n"
     ]
    }
   ],
   "source": [
    "arr = np.array([[1,2],[3,4]])\n",
    "print(np.rot90(arr))"
   ]
  },
  {
   "cell_type": "code",
   "execution_count": 20,
   "id": "51e978c6-c6c6-4cac-bba5-880029f92f6b",
   "metadata": {},
   "outputs": [
    {
     "name": "stdout",
     "output_type": "stream",
     "text": [
      "[[4 3]\n",
      " [2 1]]\n"
     ]
    }
   ],
   "source": [
    "# Flip(arr) \n",
    "\n",
    "arr = np.array([[1,2],[3,4]])  #Reverse The Array\n",
    "print(np.flip(arr))"
   ]
  },
  {
   "cell_type": "code",
   "execution_count": 21,
   "id": "935dc4ac-e260-49c2-9332-f4dfca712476",
   "metadata": {},
   "outputs": [
    {
     "name": "stdout",
     "output_type": "stream",
     "text": [
      "[[2 1]\n",
      " [4 3]]\n"
     ]
    }
   ],
   "source": [
    "# Fliplr(arr)\n",
    "\n",
    "arr = np.array([[1,2],[3,4,]]) # left to Right column-wise flip\n",
    "print(np.fliplr(arr))"
   ]
  },
  {
   "cell_type": "code",
   "execution_count": 22,
   "id": "dde615f2-71f2-4a73-95c0-f0a61bac4caf",
   "metadata": {},
   "outputs": [
    {
     "name": "stdout",
     "output_type": "stream",
     "text": [
      "[[3 4]\n",
      " [1 2]]\n"
     ]
    }
   ],
   "source": [
    "# flipud(arr)\n",
    "\n",
    "arr = np.array([[1,2],[3,4]]) # Flip to Up to Down row-wise flip\n",
    "print(np.flipud(arr))"
   ]
  },
  {
   "cell_type": "markdown",
   "id": "bc846aa7-cd45-460b-bcef-53e2006f1060",
   "metadata": {},
   "source": [
    " NumPy Array Iterating\n"
   ]
  },
  {
   "cell_type": "code",
   "execution_count": 23,
   "id": "0b299933-8241-43b9-bd21-b5ea4980b845",
   "metadata": {},
   "outputs": [
    {
     "name": "stdout",
     "output_type": "stream",
     "text": [
      "1\n",
      "2\n",
      "3\n"
     ]
    }
   ],
   "source": [
    "# Iterating Arrays\n",
    "\n",
    "arr = np.array([1,2,3])\n",
    "\n",
    "for i in arr:\n",
    "    print(i)"
   ]
  },
  {
   "cell_type": "code",
   "execution_count": 24,
   "id": "5f3fd4c8-872c-494d-bd2f-21fb37c88b41",
   "metadata": {},
   "outputs": [
    {
     "name": "stdout",
     "output_type": "stream",
     "text": [
      "[1 3]\n",
      "[2 4]\n"
     ]
    }
   ],
   "source": [
    "# Iterating 2-D Arrays\n",
    "\n",
    "arr = np.array([[1,3],[2,4]])\n",
    "\n",
    "for i in arr:\n",
    "    print(i)\n"
   ]
  },
  {
   "cell_type": "code",
   "execution_count": 25,
   "id": "9851f7da-3c7d-4793-a862-ea9a7deb3eae",
   "metadata": {},
   "outputs": [
    {
     "name": "stdout",
     "output_type": "stream",
     "text": [
      "[1 2 3]\n",
      "[4 5 6]\n"
     ]
    }
   ],
   "source": [
    "arr = np.array([[1, 2, 3], [4, 5, 6]])\n",
    "\n",
    "for x in arr:\n",
    "  print(x)"
   ]
  },
  {
   "cell_type": "code",
   "execution_count": 26,
   "id": "7e99cf5f-969d-42af-a41e-1b4a1767d117",
   "metadata": {},
   "outputs": [
    {
     "name": "stdout",
     "output_type": "stream",
     "text": [
      "1\n",
      "2\n",
      "3\n",
      "4\n",
      "5\n",
      "6\n"
     ]
    }
   ],
   "source": [
    "arr = np.array([[1,2,3],[4,5,6]])\n",
    "\n",
    "for i in arr:\n",
    "    for j in i:\n",
    "        print(j)"
   ]
  },
  {
   "cell_type": "code",
   "execution_count": 27,
   "id": "27573bbf-58fb-4c29-a9ac-1e327ac2ae7d",
   "metadata": {},
   "outputs": [
    {
     "name": "stdout",
     "output_type": "stream",
     "text": [
      "[[1 2 3]\n",
      " [4 5 6]]\n",
      "[[ 7  8  9]\n",
      " [10 11 12]]\n"
     ]
    }
   ],
   "source": [
    "# Iterating 3-D Arrays\n",
    "\n",
    "arr = np.array([[[1, 2, 3], [4, 5, 6]], [[7, 8, 9], [10, 11, 12]]])\n",
    "\n",
    "for x in arr:\n",
    "    print(x)"
   ]
  },
  {
   "cell_type": "code",
   "execution_count": 28,
   "id": "6d70989f-ad1b-4020-bfec-fea3f723977f",
   "metadata": {},
   "outputs": [
    {
     "name": "stdout",
     "output_type": "stream",
     "text": [
      "1\n",
      "2\n",
      "3\n",
      "4\n",
      "5\n",
      "6\n",
      "7\n",
      "8\n",
      "9\n",
      "10\n",
      "11\n",
      "12\n"
     ]
    }
   ],
   "source": [
    "arr = np.array([[[1, 2, 3], [4, 5, 6]], [[7, 8, 9], [10, 11, 12]]])\n",
    "\n",
    "for x in arr:\n",
    "    for y in x:\n",
    "        for z in y:\n",
    "            print(z)"
   ]
  },
  {
   "cell_type": "markdown",
   "id": "c474da2d-6303-4474-ad2c-a319b34fa369",
   "metadata": {},
   "source": [
    "Iterating Arrays Using nditer()\n"
   ]
  },
  {
   "cell_type": "code",
   "execution_count": 29,
   "id": "aade7e1f-12c1-444d-8157-6a0ab91e555f",
   "metadata": {},
   "outputs": [
    {
     "name": "stdout",
     "output_type": "stream",
     "text": [
      "1\n",
      "2\n",
      "3\n",
      "4\n",
      "5\n",
      "6\n",
      "7\n",
      "8\n"
     ]
    }
   ],
   "source": [
    "# Iterating on Each Scalar Element\n",
    "\n",
    "arr = np.array([[[1,2],[3,4]],[[5,6],[7,8]]])\n",
    "\n",
    "for i in np.nditer(arr):\n",
    "    print(i)"
   ]
  },
  {
   "cell_type": "code",
   "execution_count": 30,
   "id": "0ab8ec9f-f4bf-4d51-9f9e-548898342fb3",
   "metadata": {},
   "outputs": [
    {
     "name": "stdout",
     "output_type": "stream",
     "text": [
      "np.bytes_(b'1')\n",
      "np.bytes_(b'2')\n",
      "np.bytes_(b'3')\n"
     ]
    }
   ],
   "source": [
    "# Iterating Array With Different Data Types\n",
    "\n",
    "arr = np.array([1,2,3])\n",
    "\n",
    "for i in np.nditer(arr, flags=['buffered'], op_dtypes=['S']):\n",
    "    print(i)"
   ]
  },
  {
   "cell_type": "code",
   "execution_count": 34,
   "id": "662a0766-b30d-4074-96de-448412e1728e",
   "metadata": {},
   "outputs": [
    {
     "name": "stdout",
     "output_type": "stream",
     "text": [
      "1.0\n",
      "2.0\n",
      "3.0\n"
     ]
    }
   ],
   "source": [
    "arr = np.array([1,2,3])\n",
    "\n",
    "for x in np.nditer(arr, flags=['buffered'], op_dtypes=['f'], casting='unsafe'):\n",
    "    print(x)"
   ]
  },
  {
   "cell_type": "code",
   "execution_count": 38,
   "id": "12b256c5-54ff-49ee-a603-aedf83d313e1",
   "metadata": {},
   "outputs": [
    {
     "name": "stdout",
     "output_type": "stream",
     "text": [
      "np.bytes_(b'1')\n",
      "np.bytes_(b'2')\n",
      "np.bytes_(b'3')\n"
     ]
    }
   ],
   "source": [
    "arr = np.array([1,2,3])\n",
    "\n",
    "for x in np.nditer(arr, flags=['buffered'], op_dtypes=['c'], casting='unsafe'):\n",
    "    print(x)"
   ]
  },
  {
   "cell_type": "code",
   "execution_count": 39,
   "id": "9dd4c498",
   "metadata": {},
   "outputs": [
    {
     "name": "stdout",
     "output_type": "stream",
     "text": [
      "(1+0j)\n",
      "(2+0j)\n",
      "(3+0j)\n",
      "(4+0j)\n"
     ]
    }
   ],
   "source": [
    "arr = np.array([1,2,3,4])\n",
    "\n",
    "for x in np.nditer(arr, flags=['buffered'],op_dtypes=[np.complex128], casting='unsafe'):\n",
    "    print(x)"
   ]
  },
  {
   "cell_type": "code",
   "execution_count": 41,
   "id": "3b179bb6",
   "metadata": {},
   "outputs": [
    {
     "name": "stdout",
     "output_type": "stream",
     "text": [
      "1\n",
      "3\n",
      "5\n",
      "7\n"
     ]
    }
   ],
   "source": [
    "# Iterating With Different Step Size\n",
    "\n",
    "arr = np.array([[1,2,3,4],[5,6,7,8]])\n",
    "\n",
    "for x in np.nditer(arr[:, ::2]):\n",
    "    print(x)"
   ]
  },
  {
   "cell_type": "code",
   "execution_count": 49,
   "id": "a82c754c",
   "metadata": {},
   "outputs": [
    {
     "name": "stdout",
     "output_type": "stream",
     "text": [
      "1\n",
      "9\n"
     ]
    }
   ],
   "source": [
    "arr = np.array([1, 2, 3, 4, 5, 6, 7, 8, 9, 10, 11, 12])\n",
    "\n",
    "for i in arr[::8]:\n",
    "    print(i)"
   ]
  },
  {
   "cell_type": "code",
   "execution_count": 50,
   "id": "3600ff00",
   "metadata": {},
   "outputs": [
    {
     "name": "stdout",
     "output_type": "stream",
     "text": [
      "12\n",
      "11\n",
      "10\n",
      "9\n",
      "8\n",
      "7\n",
      "6\n",
      "5\n",
      "4\n",
      "3\n",
      "2\n",
      "1\n"
     ]
    }
   ],
   "source": [
    "for i in arr[::-1]:\n",
    "    print(i)"
   ]
  },
  {
   "cell_type": "code",
   "execution_count": 52,
   "id": "2ae8599a",
   "metadata": {},
   "outputs": [
    {
     "name": "stdout",
     "output_type": "stream",
     "text": [
      "1\n",
      "6\n",
      "11\n"
     ]
    }
   ],
   "source": [
    "for x in np.nditer(arr[::5]):\n",
    "    print(x)"
   ]
  },
  {
   "cell_type": "code",
   "execution_count": 53,
   "id": "a1ef8d8e",
   "metadata": {},
   "outputs": [
    {
     "name": "stdout",
     "output_type": "stream",
     "text": [
      "3\n",
      "6\n",
      "9\n",
      "12\n"
     ]
    }
   ],
   "source": [
    "for x in np.nditer(arr[::-3]):\n",
    "    print(x)"
   ]
  },
  {
   "cell_type": "code",
   "execution_count": 54,
   "id": "67fb65cc",
   "metadata": {},
   "outputs": [
    {
     "name": "stdout",
     "output_type": "stream",
     "text": [
      "(0,) 1\n",
      "(1,) 2\n",
      "(2,) 3\n",
      "(3,) 4\n"
     ]
    }
   ],
   "source": [
    "# Enumerated Iteration Using ndenumerate()\n",
    "\n",
    "arr = np.array([1,2,3,4])\n",
    "\n",
    "for idx, x in np.ndenumerate(arr):\n",
    "    print(idx, x)"
   ]
  },
  {
   "cell_type": "code",
   "execution_count": 57,
   "id": "6d5e5af1",
   "metadata": {},
   "outputs": [
    {
     "name": "stdout",
     "output_type": "stream",
     "text": [
      "(0,) 1\n",
      "(1,) 2\n",
      "(2,) 3\n",
      "(3,) 4\n",
      "(4,) 5\n",
      "(5,) 6\n",
      "(6,) 7\n",
      "(7,) 8\n"
     ]
    }
   ],
   "source": [
    "arr2 = np.array([1,2,3,4,5,6,7,8])\n",
    "\n",
    "for idx, x in np.ndenumerate(arr2):\n",
    "    print(idx, x)"
   ]
  },
  {
   "cell_type": "code",
   "execution_count": 58,
   "id": "4b23baf0",
   "metadata": {},
   "outputs": [
    {
     "name": "stdout",
     "output_type": "stream",
     "text": [
      "(0, 0) 1\n",
      "(0, 1) 2\n",
      "(0, 2) 3\n",
      "(1, 0) 4\n",
      "(1, 1) 5\n",
      "(1, 2) 6\n"
     ]
    }
   ],
   "source": [
    "arr3 = np.array([[1,2,3],[4,5,6]])\n",
    "\n",
    "for idx, x in np.ndenumerate(arr3):\n",
    "    print(idx, x)"
   ]
  },
  {
   "cell_type": "markdown",
   "id": "077bcbb9",
   "metadata": {},
   "source": [
    "NumPy Joining Array\n"
   ]
  },
  {
   "cell_type": "code",
   "execution_count": 59,
   "id": "1adcb1a5",
   "metadata": {},
   "outputs": [
    {
     "name": "stdout",
     "output_type": "stream",
     "text": [
      "[1 2 3 4 5 6]\n"
     ]
    }
   ],
   "source": [
    "# Joining Numpy Arrays\n",
    "\n",
    "arr1 = np.array([1,2,3])\n",
    "arr2 = np.array([4,5,6])\n",
    "arr3 = np.concatenate((arr1, arr2))\n",
    "print(arr3)"
   ]
  },
  {
   "cell_type": "code",
   "execution_count": 60,
   "id": "5326c20f",
   "metadata": {},
   "outputs": [
    {
     "name": "stdout",
     "output_type": "stream",
     "text": [
      "[[1 2 5 6]\n",
      " [3 4 7 8]]\n"
     ]
    }
   ],
   "source": [
    "arr1 = np.array([[1,2],[3,4]])\n",
    "\n",
    "arr2 = np.array([[5,6],[7,8]])\n",
    "\n",
    "arr = np.concatenate((arr1, arr2), axis=1)\n",
    "print(arr)"
   ]
  },
  {
   "cell_type": "code",
   "execution_count": null,
   "id": "3c6d6aa3",
   "metadata": {},
   "outputs": [
    {
     "name": "stdout",
     "output_type": "stream",
     "text": [
      "[[1 5]\n",
      " [2 6]\n",
      " [3 7]\n",
      " [4 8]]\n"
     ]
    }
   ],
   "source": [
    "# Joining Array Using Stack Functions      (Add New axis)\n",
    "\n",
    "arr1 = np.array([1,2,3,4])  \n",
    "\n",
    "arr2 = np.array([5,6,7,8])\n",
    "\n",
    "arr = np.stack((arr1, arr2), axis=1)\n",
    "print(arr)"
   ]
  },
  {
   "cell_type": "code",
   "execution_count": 67,
   "id": "3a71c092",
   "metadata": {},
   "outputs": [
    {
     "name": "stdout",
     "output_type": "stream",
     "text": [
      "<class 'numpy.ndarray'>\n"
     ]
    }
   ],
   "source": [
    "print(type(arr))"
   ]
  },
  {
   "cell_type": "code",
   "execution_count": 68,
   "id": "f93da2b1",
   "metadata": {},
   "outputs": [
    {
     "name": "stdout",
     "output_type": "stream",
     "text": [
      "2\n"
     ]
    }
   ],
   "source": [
    "print(arr.ndim)"
   ]
  },
  {
   "cell_type": "code",
   "execution_count": null,
   "id": "3b6d18af",
   "metadata": {},
   "outputs": [
    {
     "name": "stdout",
     "output_type": "stream",
     "text": [
      "[1 2 3 4 5 6 7 8]\n"
     ]
    }
   ],
   "source": [
    "# Stacking Along Rows       (Add in Horizontally)\n",
    "\n",
    "arr1 = np.array([1,2,3,4])\n",
    "\n",
    "arr2 = np.array([5,6,7,8])\n",
    "\n",
    "arr = np.hstack((arr1, arr2))\n",
    "\n",
    "print(arr)"
   ]
  },
  {
   "cell_type": "code",
   "execution_count": null,
   "id": "02c67ffa",
   "metadata": {},
   "outputs": [
    {
     "name": "stdout",
     "output_type": "stream",
     "text": [
      "[[1 2 3 4]\n",
      " [5 6 7 8]]\n"
     ]
    }
   ],
   "source": [
    "# Stacking Along Columns        (Add in Vertically)\n",
    "\n",
    "arr1 = np.array([1,2,3,4])  \n",
    "\n",
    "arr2 = np.array([5,6,7,8])\n",
    "\n",
    "arr = np.vstack((arr1, arr2))\n",
    "\n",
    "print(arr)"
   ]
  },
  {
   "cell_type": "code",
   "execution_count": null,
   "id": "ad88b177",
   "metadata": {},
   "outputs": [],
   "source": [
    "# Stacking Along Height (depth)     (Add in depth)\n",
    "\n",
    "arr1 = np.array([1,2,3,4])  \n",
    "\n",
    "arr2 = np.array([5,6,7,8])\n",
    "\n",
    "arr = np.dstack((arr1, arr2))"
   ]
  },
  {
   "cell_type": "code",
   "execution_count": 75,
   "id": "a8753ce6",
   "metadata": {},
   "outputs": [
    {
     "name": "stdout",
     "output_type": "stream",
     "text": [
      "[[[1 5]\n",
      "  [2 6]\n",
      "  [3 7]\n",
      "  [4 8]]]\n"
     ]
    }
   ],
   "source": [
    "print(arr)"
   ]
  },
  {
   "cell_type": "markdown",
   "id": "88110693",
   "metadata": {},
   "source": [
    "Numpy Splitting Array"
   ]
  },
  {
   "cell_type": "code",
   "execution_count": 76,
   "id": "bd8b48b8",
   "metadata": {},
   "outputs": [
    {
     "name": "stdout",
     "output_type": "stream",
     "text": [
      "[array([1, 2]), array([3, 4]), array([5, 6])]\n"
     ]
    }
   ],
   "source": [
    "# Splitting Numpy Arrays    \n",
    "\n",
    "arr = np.array([1,2,3,4,5,6])\n",
    "\n",
    "newarr = np.array_split(arr, 3)\n",
    "\n",
    "print(newarr)"
   ]
  },
  {
   "cell_type": "code",
   "execution_count": 1,
   "id": "e934d4ec",
   "metadata": {},
   "outputs": [
    {
     "name": "stdout",
     "output_type": "stream",
     "text": [
      "hello world\n"
     ]
    }
   ],
   "source": [
    "print(\"hello world\")"
   ]
  },
  {
   "cell_type": "code",
   "execution_count": null,
   "id": "98664eab",
   "metadata": {},
   "outputs": [],
   "source": [
    "print(\"Kunjan Patel\")"
   ]
  }
 ],
 "metadata": {
  "kernelspec": {
   "display_name": "myenv (3.10.9)",
   "language": "python",
   "name": "python3"
  },
  "language_info": {
   "codemirror_mode": {
    "name": "ipython",
    "version": 3
   },
   "file_extension": ".py",
   "mimetype": "text/x-python",
   "name": "python",
   "nbconvert_exporter": "python",
   "pygments_lexer": "ipython3",
   "version": "3.10.9"
  }
 },
 "nbformat": 4,
 "nbformat_minor": 5
}
